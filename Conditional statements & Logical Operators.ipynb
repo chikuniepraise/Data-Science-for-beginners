{
 "cells": [
  {
   "cell_type": "markdown",
   "id": "2e742018-50c1-40e1-b367-4baf2964b2d2",
   "metadata": {},
   "source": [
    "# Condition control in Python is essential for controlling the flow of a program based on certain conditions. \n",
    "### The primary tools for condition control in Python are if, elif, and else statements, as well as conditional expressions.\n"
   ]
  },
  {
   "cell_type": "markdown",
   "id": "3b2806bb-9c9c-49fd-8905-aed4c11d59d2",
   "metadata": {},
   "source": [
    "# if Statement\n",
    "### The if statement evaluates a condition. \n",
    "### If the condition is True, the block of code under the if statement is executed."
   ]
  },
  {
   "cell_type": "code",
   "execution_count": 4,
   "id": "ebb79769-753f-430b-b9c4-d50d48d2354d",
   "metadata": {},
   "outputs": [
    {
     "name": "stdout",
     "output_type": "stream",
     "text": [
      "x is greater than 5\n"
     ]
    }
   ],
   "source": [
    "x = 10\n",
    "if x > 5:\n",
    "    print(\"x is greater than 5\")\n"
   ]
  },
  {
   "cell_type": "markdown",
   "id": "385393c4-ce30-4ba5-828b-7df8fe01c33e",
   "metadata": {},
   "source": [
    "# if-else Statement\n",
    "## The else statement can be used with if to execute a block of code if the condition is False."
   ]
  },
  {
   "cell_type": "code",
   "execution_count": 2,
   "id": "1b3f1576-19e4-4784-802d-ec704ccd3316",
   "metadata": {},
   "outputs": [
    {
     "name": "stdout",
     "output_type": "stream",
     "text": [
      "x is not greater than 5\n"
     ]
    }
   ],
   "source": [
    "x = 3\n",
    "if x > 5:\n",
    "    print(\"x is greater than 5\")\n",
    "else:\n",
    "    print(\"x is not greater than 5\")\n"
   ]
  },
  {
   "cell_type": "markdown",
   "id": "a23b9176-f9c7-438b-9d3f-7d3cf37247d6",
   "metadata": {},
   "source": [
    "# if-elif-else Statement\n",
    "### The elif (short for \"else if\") statement allows for multiple conditions to be checked sequentially. If the first condition is False, the program checks the next elif condition, and so on. If none of the conditions are True, the else block is executed."
   ]
  },
  {
   "cell_type": "code",
   "execution_count": 10,
   "id": "6d48da27-cd6b-4539-af4a-23a5c45e1af6",
   "metadata": {},
   "outputs": [
    {
     "name": "stdout",
     "output_type": "stream",
     "text": [
      "x is 5 or less\n"
     ]
    }
   ],
   "source": [
    "x = 2\n",
    "if x > 15:\n",
    "    print(\"x is greater than 15\")\n",
    "elif x > 5:\n",
    "    print(\"x is greater than 5 but less than or equal to 15\")\n",
    "else:\n",
    "    print(\"x is 5 or less\")\n"
   ]
  },
  {
   "cell_type": "markdown",
   "id": "a9379fff-f2ec-42c2-894e-e7e540019685",
   "metadata": {},
   "source": [
    "# Nested if Statements\n",
    "## You can nest if statements inside other if statements to check multiple conditions."
   ]
  },
  {
   "cell_type": "code",
   "execution_count": 16,
   "id": "90ad8c92-19b8-4595-9571-a74c673a2239",
   "metadata": {},
   "outputs": [
    {
     "name": "stdout",
     "output_type": "stream",
     "text": [
      "x is 5 or less\n"
     ]
    }
   ],
   "source": [
    "x = 5\n",
    "if x > 5:\n",
    "    if x < 15:\n",
    "        print(\"x is between 5 and 15\")\n",
    "    else:\n",
    "        print(\"x is greater than or equal to 15\")\n",
    "else:\n",
    "    print(\"x is 5 or less\")\n"
   ]
  },
  {
   "cell_type": "markdown",
   "id": "63b64c55-28a8-4e96-9628-118ff4925eea",
   "metadata": {},
   "source": [
    "# Conditional Expressions (Ternary Operator)\n",
    "####  Conditional expressions for concise condition control."
   ]
  },
  {
   "cell_type": "code",
   "execution_count": 17,
   "id": "28f5027e-60f0-4bde-8419-b75ab2871e9f",
   "metadata": {},
   "outputs": [
    {
     "name": "stdout",
     "output_type": "stream",
     "text": [
      "x is 5 or less\n"
     ]
    }
   ],
   "source": [
    "x = 3\n",
    "result = \"x is greater than 5\" if x > 5 else \"x is 5 or less\"\n",
    "print(result)\n"
   ]
  },
  {
   "cell_type": "markdown",
   "id": "b03ebfe4-f0d3-43bd-aac2-6cf524549d45",
   "metadata": {},
   "source": [
    "# Example\n",
    "## A simple program that categorizes a number as positive, negative, or zero"
   ]
  },
  {
   "cell_type": "code",
   "execution_count": 19,
   "id": "e18354c1-0937-433e-9da0-23473e13b8cc",
   "metadata": {},
   "outputs": [
    {
     "name": "stdin",
     "output_type": "stream",
     "text": [
      "Enter a number:  45\n"
     ]
    },
    {
     "name": "stdout",
     "output_type": "stream",
     "text": [
      "The number is positive.\n"
     ]
    }
   ],
   "source": [
    "number = int(input(\"Enter a number: \"))\n",
    "\n",
    "if number > 0:\n",
    "    print(\"The number is positive.\")\n",
    "elif number < 0:\n",
    "    print(\"The number is negative.\")\n",
    "else:\n",
    "    print(\"The number is zero.\")\n"
   ]
  },
  {
   "cell_type": "markdown",
   "id": "1c4b3632-0170-411f-afd3-30e686b6a528",
   "metadata": {},
   "source": [
    "# Logical Operators"
   ]
  },
  {
   "cell_type": "markdown",
   "id": "dc0aa4a3-fca8-4448-9a21-a30599457f4d",
   "metadata": {},
   "source": [
    "# \"and\" "
   ]
  },
  {
   "cell_type": "code",
   "execution_count": 2,
   "id": "35ec3422-8788-46af-8568-bfda0628ce66",
   "metadata": {},
   "outputs": [
    {
     "name": "stdout",
     "output_type": "stream",
     "text": [
      "Discount applied.\n"
     ]
    }
   ],
   "source": [
    "order_total = 150\n",
    "customer_membership = True\n",
    "\n",
    "if order_total >= 100 and customer_membership == True:\n",
    "    print(\"Discount applied.\")\n",
    "else:\n",
    "    print(\"Discount not applied.\")"
   ]
  },
  {
   "cell_type": "code",
   "execution_count": 6,
   "id": "c9c5dcc6-084a-4efb-9af6-6437ca2e1135",
   "metadata": {},
   "outputs": [
    {
     "name": "stdout",
     "output_type": "stream",
     "text": [
      "Discount not applied.\n"
     ]
    }
   ],
   "source": [
    "order_total = 90\n",
    "customer_membership = True\n",
    "\n",
    "if order_total >= 100 and customer_membership == True:\n",
    "    print(\"Discount applied.\")\n",
    "else:\n",
    "    print(\"Discount not applied.\")"
   ]
  },
  {
   "cell_type": "markdown",
   "id": "361ae43c-3e57-4083-a1bd-4113f55bdfc7",
   "metadata": {},
   "source": [
    "# or"
   ]
  },
  {
   "cell_type": "code",
   "execution_count": 24,
   "id": "efa66f73-51a4-4785-98e4-6d86a5f4db00",
   "metadata": {},
   "outputs": [
    {
     "name": "stdout",
     "output_type": "stream",
     "text": [
      "Free shipping applied.\n"
     ]
    }
   ],
   "source": [
    "order_total = 75\n",
    "customer_location = \"Benin\"\n",
    "\n",
    "if order_total >= 50 or customer_location == \"Benin\":\n",
    "    print(\"Free shipping applied.\")\n",
    "else:\n",
    "    print(\"Shipping fee applied.\")"
   ]
  },
  {
   "cell_type": "code",
   "execution_count": 8,
   "id": "350a4389-9e18-4451-9023-637fe307c047",
   "metadata": {},
   "outputs": [
    {
     "name": "stdout",
     "output_type": "stream",
     "text": [
      "Free shipping applied.\n"
     ]
    }
   ],
   "source": [
    "order_total = 25\n",
    "customer_location = \"USA\"\n",
    "\n",
    "if order_total >= 50 or customer_location == \"USA\":\n",
    "    print(\"Free shipping applied.\")\n",
    "else:\n",
    "    print(\"Shipping fee applied.\")"
   ]
  },
  {
   "cell_type": "code",
   "execution_count": 26,
   "id": "8e48521a-e2c6-4ce2-b3bd-99c1c964d20e",
   "metadata": {},
   "outputs": [
    {
     "name": "stdout",
     "output_type": "stream",
     "text": [
      "Shipping fee applied.\n"
     ]
    }
   ],
   "source": [
    "order_total = 25\n",
    "customer_location = \"Ethiopia\"\n",
    "\n",
    "if order_total >= 50 or customer_location == \"USA\":\n",
    "    print(\"Free shipping applied.\")\n",
    "else:\n",
    "    print(\"Shipping fee applied.\")"
   ]
  },
  {
   "cell_type": "markdown",
   "id": "9801dea9-1e9f-43c9-bd4f-622a51759025",
   "metadata": {},
   "source": [
    "# not\n",
    "\n",
    "#### The if statement checks the condition not is_member. \n",
    "#### The not operator negates the value of is_member.\n",
    "#### Since is_member is False, not is_member evaluates to True."
   ]
  },
  {
   "cell_type": "code",
   "execution_count": 27,
   "id": "494b4eb5-13b7-4aca-b0d0-13f7853cfc7c",
   "metadata": {},
   "outputs": [
    {
     "name": "stdout",
     "output_type": "stream",
     "text": [
      "Customer is not a member.\n"
     ]
    }
   ],
   "source": [
    "is_member = False\n",
    "\n",
    "if not is_member:\n",
    "    print(\"Customer is not a member.\")\n",
    "else:\n",
    "    print(\"Customer is a member.\")"
   ]
  },
  {
   "cell_type": "code",
   "execution_count": 11,
   "id": "677e14c7-5e71-4824-adb9-c6560e6ab9f2",
   "metadata": {},
   "outputs": [
    {
     "name": "stdout",
     "output_type": "stream",
     "text": [
      "Customer is a member.\n"
     ]
    }
   ],
   "source": [
    "is_member = True\n",
    "\n",
    "if not is_member:\n",
    "    print(\"Customer is not a member.\")\n",
    "else:\n",
    "    print(\"Customer is a member.\")"
   ]
  },
  {
   "cell_type": "code",
   "execution_count": 15,
   "id": "7b90ddde-6e13-477d-a2bc-6bb69c77c58a",
   "metadata": {},
   "outputs": [
    {
     "name": "stdout",
     "output_type": "stream",
     "text": [
      "Free shipping applied.\n"
     ]
    }
   ],
   "source": [
    "order_total = 75\n",
    "customer_location = \"USA\"\n",
    "\n",
    "if not (order_total < 50 and customer_location != \"USA\"):\n",
    "    print(\"Free shipping applied.\")\n",
    "else:\n",
    "    print(\"Shipping fee applied.\")\n"
   ]
  },
  {
   "cell_type": "code",
   "execution_count": 16,
   "id": "b61c2fb5-a75b-4970-ae0b-38e5256f8cc2",
   "metadata": {},
   "outputs": [
    {
     "name": "stdout",
     "output_type": "stream",
     "text": [
      "Shipping fee applied.\n"
     ]
    }
   ],
   "source": [
    "order_total = 30\n",
    "customer_location = \"Canada\"\n",
    "\n",
    "if not (order_total < 50 and customer_location != \"USA\"):\n",
    "    print(\"Free shipping applied.\")\n",
    "else:\n",
    "    print(\"Shipping fee applied.\")"
   ]
  },
  {
   "cell_type": "markdown",
   "id": "de15a217-d871-4ed4-bf1a-462ddcaad616",
   "metadata": {},
   "source": [
    "# Instructions.\n",
    "Create a variable called \"number\" and assign any integer value to it.\n",
    "\r\n",
    "Use an if-else statement to check if the number is even or odd.\n",
    "\n",
    " You can use the modulo operator (%), which returns the remainder of a division operation, to check if the number is divisible by 2.\n",
    "\n",
    " If the remainder is 0, the number is even, otherwise it is odd\n",
    ".\r\n",
    "You can also use logical operator \"and\" to check if the number is divisible by 2 and greater than 1\n",
    "0.\r\n",
    "You can use logical operator \"or\" to check if the number is either divisible by 2 or greater than 10."
   ]
  },
  {
   "cell_type": "code",
   "execution_count": 28,
   "id": "064e6f9c-ab61-44e3-8fa2-f97701c54ae9",
   "metadata": {},
   "outputs": [
    {
     "name": "stdout",
     "output_type": "stream",
     "text": [
      "The number 10 is even.\n",
      "The number 10 is not both divisible by 2 and greater than 10.\n",
      "The number 10 is either divisible by 2 or greater than 10.\n"
     ]
    }
   ],
   "source": [
    "# Assign an integer value to the variable 'number'\n",
    "number = 10\n",
    "\n",
    "# Check if the number is even or odd\n",
    "if number % 2 == 0:\n",
    "    print(f\"The number {number} is even.\")\n",
    "else:\n",
    "    print(f\"The number {number} is odd.\")\n",
    "\n",
    "# Check if the number is divisible by 2 and greater than 10\n",
    "if number % 2 == 0 and number > 10:\n",
    "    print(f\"The number {number} is divisible by 2 and greater than 10.\")\n",
    "else:\n",
    "    print(f\"The number {number} is not both divisible by 2 and greater than 10.\")\n",
    "\n",
    "# Check if the number is either divisible by 2 or greater than 10\n",
    "if number % 2 == 0 or number > 10:\n",
    "    print(f\"The number {number} is either divisible by 2 or greater than 10.\")\n",
    "else:\n",
    "    print(f\"The number {number} is neither divisible by 2 nor greater than 10.\")\n"
   ]
  },
  {
   "cell_type": "code",
   "execution_count": null,
   "id": "99c0223c-dde0-4740-a33e-241cec70fc54",
   "metadata": {},
   "outputs": [],
   "source": []
  }
 ],
 "metadata": {
  "kernelspec": {
   "display_name": "Python 3 (ipykernel)",
   "language": "python",
   "name": "python3"
  },
  "language_info": {
   "codemirror_mode": {
    "name": "ipython",
    "version": 3
   },
   "file_extension": ".py",
   "mimetype": "text/x-python",
   "name": "python",
   "nbconvert_exporter": "python",
   "pygments_lexer": "ipython3",
   "version": "3.11.7"
  }
 },
 "nbformat": 4,
 "nbformat_minor": 5
}
